{
 "cells": [
  {
   "cell_type": "code",
   "execution_count": 1,
   "id": "62bf409a",
   "metadata": {},
   "outputs": [],
   "source": [
    "import numpy as np\n",
    "import pandas as pd"
   ]
  },
  {
   "cell_type": "code",
   "execution_count": 2,
   "id": "d9fcf18b",
   "metadata": {},
   "outputs": [],
   "source": [
    "curated_data_34 = pd.read_csv(\"curated_34.csv\")"
   ]
  },
  {
   "cell_type": "code",
   "execution_count": 3,
   "id": "f0197b7e",
   "metadata": {},
   "outputs": [
    {
     "data": {
      "text/html": [
       "<div>\n",
       "<style scoped>\n",
       "    .dataframe tbody tr th:only-of-type {\n",
       "        vertical-align: middle;\n",
       "    }\n",
       "\n",
       "    .dataframe tbody tr th {\n",
       "        vertical-align: top;\n",
       "    }\n",
       "\n",
       "    .dataframe thead th {\n",
       "        text-align: right;\n",
       "    }\n",
       "</style>\n",
       "<table border=\"1\" class=\"dataframe\">\n",
       "  <thead>\n",
       "    <tr style=\"text-align: right;\">\n",
       "      <th></th>\n",
       "      <th>valeur_fonciere</th>\n",
       "      <th>longitude</th>\n",
       "      <th>latitude</th>\n",
       "      <th>nombre_pieces_principales</th>\n",
       "      <th>surface_reelle_bati</th>\n",
       "      <th>code_postal</th>\n",
       "      <th>nom_commune</th>\n",
       "      <th>valeur_mc</th>\n",
       "    </tr>\n",
       "  </thead>\n",
       "  <tbody>\n",
       "    <tr>\n",
       "      <th>0</th>\n",
       "      <td>158730.0</td>\n",
       "      <td>4.086656</td>\n",
       "      <td>43.558880</td>\n",
       "      <td>1.0</td>\n",
       "      <td>25.0</td>\n",
       "      <td>34280.0</td>\n",
       "      <td>La Grande-Motte</td>\n",
       "      <td>6349.200000</td>\n",
       "    </tr>\n",
       "    <tr>\n",
       "      <th>1</th>\n",
       "      <td>216000.0</td>\n",
       "      <td>4.014809</td>\n",
       "      <td>43.660787</td>\n",
       "      <td>3.0</td>\n",
       "      <td>43.0</td>\n",
       "      <td>34670.0</td>\n",
       "      <td>Baillargues</td>\n",
       "      <td>5023.255814</td>\n",
       "    </tr>\n",
       "    <tr>\n",
       "      <th>2</th>\n",
       "      <td>82000.0</td>\n",
       "      <td>3.891022</td>\n",
       "      <td>43.590893</td>\n",
       "      <td>1.0</td>\n",
       "      <td>21.0</td>\n",
       "      <td>34070.0</td>\n",
       "      <td>Montpellier</td>\n",
       "      <td>3904.761905</td>\n",
       "    </tr>\n",
       "    <tr>\n",
       "      <th>3</th>\n",
       "      <td>76000.0</td>\n",
       "      <td>3.846555</td>\n",
       "      <td>43.619867</td>\n",
       "      <td>1.0</td>\n",
       "      <td>30.0</td>\n",
       "      <td>34080.0</td>\n",
       "      <td>Montpellier</td>\n",
       "      <td>2533.333333</td>\n",
       "    </tr>\n",
       "    <tr>\n",
       "      <th>4</th>\n",
       "      <td>218500.0</td>\n",
       "      <td>3.886218</td>\n",
       "      <td>43.606132</td>\n",
       "      <td>3.0</td>\n",
       "      <td>70.0</td>\n",
       "      <td>34000.0</td>\n",
       "      <td>Montpellier</td>\n",
       "      <td>3121.428571</td>\n",
       "    </tr>\n",
       "    <tr>\n",
       "      <th>...</th>\n",
       "      <td>...</td>\n",
       "      <td>...</td>\n",
       "      <td>...</td>\n",
       "      <td>...</td>\n",
       "      <td>...</td>\n",
       "      <td>...</td>\n",
       "      <td>...</td>\n",
       "      <td>...</td>\n",
       "    </tr>\n",
       "    <tr>\n",
       "      <th>1173</th>\n",
       "      <td>54150.0</td>\n",
       "      <td>3.213315</td>\n",
       "      <td>43.345102</td>\n",
       "      <td>3.0</td>\n",
       "      <td>30.0</td>\n",
       "      <td>34500.0</td>\n",
       "      <td>Béziers</td>\n",
       "      <td>1805.000000</td>\n",
       "    </tr>\n",
       "    <tr>\n",
       "      <th>1174</th>\n",
       "      <td>114000.0</td>\n",
       "      <td>3.215119</td>\n",
       "      <td>43.340108</td>\n",
       "      <td>3.0</td>\n",
       "      <td>91.0</td>\n",
       "      <td>34500.0</td>\n",
       "      <td>Béziers</td>\n",
       "      <td>1252.747253</td>\n",
       "    </tr>\n",
       "    <tr>\n",
       "      <th>1175</th>\n",
       "      <td>74000.0</td>\n",
       "      <td>3.216692</td>\n",
       "      <td>43.339397</td>\n",
       "      <td>2.0</td>\n",
       "      <td>50.0</td>\n",
       "      <td>34500.0</td>\n",
       "      <td>Béziers</td>\n",
       "      <td>1480.000000</td>\n",
       "    </tr>\n",
       "    <tr>\n",
       "      <th>1176</th>\n",
       "      <td>180500.0</td>\n",
       "      <td>3.521735</td>\n",
       "      <td>43.284802</td>\n",
       "      <td>2.0</td>\n",
       "      <td>45.0</td>\n",
       "      <td>34300.0</td>\n",
       "      <td>Agde</td>\n",
       "      <td>4011.111111</td>\n",
       "    </tr>\n",
       "    <tr>\n",
       "      <th>1177</th>\n",
       "      <td>175000.0</td>\n",
       "      <td>3.215527</td>\n",
       "      <td>43.343670</td>\n",
       "      <td>4.0</td>\n",
       "      <td>80.0</td>\n",
       "      <td>34500.0</td>\n",
       "      <td>Béziers</td>\n",
       "      <td>2187.500000</td>\n",
       "    </tr>\n",
       "  </tbody>\n",
       "</table>\n",
       "<p>1178 rows × 8 columns</p>\n",
       "</div>"
      ],
      "text/plain": [
       "      valeur_fonciere  longitude   latitude  nombre_pieces_principales  \\\n",
       "0            158730.0   4.086656  43.558880                        1.0   \n",
       "1            216000.0   4.014809  43.660787                        3.0   \n",
       "2             82000.0   3.891022  43.590893                        1.0   \n",
       "3             76000.0   3.846555  43.619867                        1.0   \n",
       "4            218500.0   3.886218  43.606132                        3.0   \n",
       "...               ...        ...        ...                        ...   \n",
       "1173          54150.0   3.213315  43.345102                        3.0   \n",
       "1174         114000.0   3.215119  43.340108                        3.0   \n",
       "1175          74000.0   3.216692  43.339397                        2.0   \n",
       "1176         180500.0   3.521735  43.284802                        2.0   \n",
       "1177         175000.0   3.215527  43.343670                        4.0   \n",
       "\n",
       "      surface_reelle_bati  code_postal      nom_commune    valeur_mc  \n",
       "0                    25.0      34280.0  La Grande-Motte  6349.200000  \n",
       "1                    43.0      34670.0      Baillargues  5023.255814  \n",
       "2                    21.0      34070.0      Montpellier  3904.761905  \n",
       "3                    30.0      34080.0      Montpellier  2533.333333  \n",
       "4                    70.0      34000.0      Montpellier  3121.428571  \n",
       "...                   ...          ...              ...          ...  \n",
       "1173                 30.0      34500.0          Béziers  1805.000000  \n",
       "1174                 91.0      34500.0          Béziers  1252.747253  \n",
       "1175                 50.0      34500.0          Béziers  1480.000000  \n",
       "1176                 45.0      34300.0             Agde  4011.111111  \n",
       "1177                 80.0      34500.0          Béziers  2187.500000  \n",
       "\n",
       "[1178 rows x 8 columns]"
      ]
     },
     "execution_count": 3,
     "metadata": {},
     "output_type": "execute_result"
    }
   ],
   "source": [
    "curated_data_34"
   ]
  },
  {
   "cell_type": "markdown",
   "id": "04cf1d60",
   "metadata": {},
   "source": [
    "# Relations analysis"
   ]
  },
  {
   "cell_type": "code",
   "execution_count": 4,
   "id": "73ee8fe4",
   "metadata": {},
   "outputs": [
    {
     "name": "stderr",
     "output_type": "stream",
     "text": [
      "/Users/soufiane.khoudmi/opt/anaconda3/lib/python3.8/site-packages/pandas/plotting/_matplotlib/core.py:1070: UserWarning: No data for colormapping provided via 'c'. Parameters 'cmap' will be ignored\n",
      "  scatter = ax.scatter(\n"
     ]
    },
    {
     "data": {
      "text/plain": [
       "<Axes: xlabel='nombre_pieces_principales', ylabel='valeur_mc'>"
      ]
     },
     "execution_count": 4,
     "metadata": {},
     "output_type": "execute_result"
    },
    {
     "data": {
      "image/png": "[encoded data removed]",
      "text/plain": [
       "<Figure size 432x288 with 1 Axes>"
      ]
     },
     "metadata": {
      "needs_background": "light"
     },
     "output_type": "display_data"
    }
   ],
   "source": [
    "curated_data_34.plot(y=\"valeur_mc\", x=\"nombre_pieces_principales\", kind=\"scatter\")"
   ]
  },
  {
   "cell_type": "code",
   "execution_count": 5,
   "id": "80e6eac8",
   "metadata": {},
   "outputs": [
    {
     "data": {
      "text/plain": [
       "<Axes: title={'center': 'valeur_mc'}, xlabel='nombre_pieces_principales'>"
      ]
     },
     "execution_count": 5,
     "metadata": {},
     "output_type": "execute_result"
    },
    {
     "data": {
      "image/png": "[encoded data removed]",
      "text/plain": [
       "<Figure size 432x288 with 1 Axes>"
      ]
     },
     "metadata": {
      "needs_background": "light"
     },
     "output_type": "display_data"
    }
   ],
   "source": [
    "curated_data_34.boxplot(\"valeur_mc\", by=\"nombre_pieces_principales\")"
   ]
  },
  {
   "cell_type": "code",
   "execution_count": 6,
   "id": "c3a559cb",
   "metadata": {},
   "outputs": [
    {
     "name": "stderr",
     "output_type": "stream",
     "text": [
      "/Users/soufiane.khoudmi/opt/anaconda3/lib/python3.8/site-packages/pandas/plotting/_matplotlib/core.py:1070: UserWarning: No data for colormapping provided via 'c'. Parameters 'cmap' will be ignored\n",
      "  scatter = ax.scatter(\n"
     ]
    },
    {
     "data": {
      "text/plain": [
       "<Axes: xlabel='surface_reelle_bati', ylabel='valeur_mc'>"
      ]
     },
     "execution_count": 6,
     "metadata": {},
     "output_type": "execute_result"
    },
    {
     "data": {
      "image/png": "[encoded data removed]",
      "text/plain": [
       "<Figure size 432x288 with 1 Axes>"
      ]
     },
     "metadata": {
      "needs_background": "light"
     },
     "output_type": "display_data"
    }
   ],
   "source": [
    "curated_data_34.plot(y=\"valeur_mc\", x=\"surface_reelle_bati\", kind=\"scatter\")"
   ]
  },
  {
   "cell_type": "code",
   "execution_count": 7,
   "id": "a40cf63b",
   "metadata": {},
   "outputs": [
    {
     "data": {
      "text/plain": [
       "0       2\n",
       "1       5\n",
       "2       1\n",
       "3       3\n",
       "4       8\n",
       "       ..\n",
       "1173    3\n",
       "1174    9\n",
       "1175    6\n",
       "1176    5\n",
       "1177    8\n",
       "Name: surface_reelle_bati, Length: 1178, dtype: category\n",
       "Categories (10, int64): [0 < 1 < 2 < 3 ... 6 < 7 < 8 < 9]"
      ]
     },
     "execution_count": 7,
     "metadata": {},
     "output_type": "execute_result"
    }
   ],
   "source": [
    "pd.qcut(curated_data_34[\"surface_reelle_bati\"], q=10, labels=list(range(0,10)))"
   ]
  },
  {
   "cell_type": "code",
   "execution_count": 8,
   "id": "033dfc1f",
   "metadata": {},
   "outputs": [],
   "source": [
    "curated_data_34[\"surface_reelle_bati_qcut\"] = pd.qcut(curated_data_34[\"surface_reelle_bati\"], q=10, labels=list(range(0,10)))\n",
    "\n",
    "\n"
   ]
  },
  {
   "cell_type": "code",
   "execution_count": 9,
   "id": "d3cf64d7",
   "metadata": {},
   "outputs": [
    {
     "data": {
      "text/plain": [
       "<Axes: title={'center': 'valeur_mc'}, xlabel='surface_reelle_bati_qcut'>"
      ]
     },
     "execution_count": 9,
     "metadata": {},
     "output_type": "execute_result"
    },
    {
     "data": {
      "image/png": "[encoded data removed]",
      "text/plain": [
       "<Figure size 432x288 with 1 Axes>"
      ]
     },
     "metadata": {
      "needs_background": "light"
     },
     "output_type": "display_data"
    }
   ],
   "source": [
    "curated_data_34.boxplot(\"valeur_mc\", by=\"surface_reelle_bati_qcut\")"
   ]
  },
  {
   "cell_type": "markdown",
   "id": "f016b951",
   "metadata": {},
   "source": [
    "# Test train split"
   ]
  },
  {
   "cell_type": "code",
   "execution_count": 10,
   "id": "fb4e38b2",
   "metadata": {},
   "outputs": [],
   "source": [
    "from sklearn.model_selection import train_test_split"
   ]
  },
  {
   "cell_type": "code",
   "execution_count": 11,
   "id": "6d247a11",
   "metadata": {},
   "outputs": [],
   "source": [
    "target = \"valeur_mc\""
   ]
  },
  {
   "cell_type": "code",
   "execution_count": 12,
   "id": "3f8e7513",
   "metadata": {},
   "outputs": [],
   "source": [
    "features = [\"surface_reelle_bati\", \"nombre_pieces_principales\", \"longitude\", \"latitude\"]"
   ]
  },
  {
   "cell_type": "code",
   "execution_count": 13,
   "id": "821ad153",
   "metadata": {},
   "outputs": [],
   "source": [
    "data_train, data_test = train_test_split(\n",
    "    curated_data_34, test_size=0.33, random_state=42)"
   ]
  },
  {
   "cell_type": "code",
   "execution_count": 14,
   "id": "0b5341b5",
   "metadata": {},
   "outputs": [
    {
     "data": {
      "text/plain": [
       "(789, 9)"
      ]
     },
     "execution_count": 14,
     "metadata": {},
     "output_type": "execute_result"
    }
   ],
   "source": [
    "data_train.shape"
   ]
  },
  {
   "cell_type": "code",
   "execution_count": 15,
   "id": "2dd81b9d",
   "metadata": {},
   "outputs": [
    {
     "data": {
      "text/plain": [
       "(389, 9)"
      ]
     },
     "execution_count": 15,
     "metadata": {},
     "output_type": "execute_result"
    }
   ],
   "source": [
    "data_test.shape"
   ]
  },
  {
   "cell_type": "markdown",
   "id": "0ee7fd16",
   "metadata": {},
   "source": [
    "# Average per CP model : the benchmark"
   ]
  },
  {
   "cell_type": "code",
   "execution_count": 16,
   "id": "485add00",
   "metadata": {},
   "outputs": [],
   "source": [
    "mean_per_cp = data_train.groupby('code_postal')['valeur_mc'].mean().to_frame()\\\n",
    "    .rename(columns={'valeur_mc': 'cp_mean_prediction'})"
   ]
  },
  {
   "cell_type": "code",
   "execution_count": 17,
   "id": "74d4736d",
   "metadata": {},
   "outputs": [
    {
     "data": {
      "text/html": [
       "<div>\n",
       "<style scoped>\n",
       "    .dataframe tbody tr th:only-of-type {\n",
       "        vertical-align: middle;\n",
       "    }\n",
       "\n",
       "    .dataframe tbody tr th {\n",
       "        vertical-align: top;\n",
       "    }\n",
       "\n",
       "    .dataframe thead th {\n",
       "        text-align: right;\n",
       "    }\n",
       "</style>\n",
       "<table border=\"1\" class=\"dataframe\">\n",
       "  <thead>\n",
       "    <tr style=\"text-align: right;\">\n",
       "      <th></th>\n",
       "      <th>cp_mean_prediction</th>\n",
       "    </tr>\n",
       "    <tr>\n",
       "      <th>code_postal</th>\n",
       "      <th></th>\n",
       "    </tr>\n",
       "  </thead>\n",
       "  <tbody>\n",
       "    <tr>\n",
       "      <th>34000.0</th>\n",
       "      <td>3934.006188</td>\n",
       "    </tr>\n",
       "    <tr>\n",
       "      <th>34070.0</th>\n",
       "      <td>2907.202391</td>\n",
       "    </tr>\n",
       "    <tr>\n",
       "      <th>34080.0</th>\n",
       "      <td>2250.269619</td>\n",
       "    </tr>\n",
       "    <tr>\n",
       "      <th>34090.0</th>\n",
       "      <td>3929.171262</td>\n",
       "    </tr>\n",
       "    <tr>\n",
       "      <th>34110.0</th>\n",
       "      <td>2864.413944</td>\n",
       "    </tr>\n",
       "  </tbody>\n",
       "</table>\n",
       "</div>"
      ],
      "text/plain": [
       "             cp_mean_prediction\n",
       "code_postal                    \n",
       "34000.0             3934.006188\n",
       "34070.0             2907.202391\n",
       "34080.0             2250.269619\n",
       "34090.0             3929.171262\n",
       "34110.0             2864.413944"
      ]
     },
     "execution_count": 17,
     "metadata": {},
     "output_type": "execute_result"
    }
   ],
   "source": [
    "mean_per_cp.head()"
   ]
  },
  {
   "cell_type": "markdown",
   "id": "5279e368",
   "metadata": {},
   "source": [
    "## Merge predictions"
   ]
  },
  {
   "cell_type": "code",
   "execution_count": 18,
   "id": "25ebfba4",
   "metadata": {},
   "outputs": [],
   "source": [
    "data_test = data_test.merge(mean_per_cp, on=\"code_postal\")"
   ]
  },
  {
   "cell_type": "code",
   "execution_count": 19,
   "id": "8182f029",
   "metadata": {},
   "outputs": [],
   "source": [
    "data_test['mean_per_cp_percent_error'] = np.abs(data_test[\"cp_mean_prediction\"] - data_test[\"valeur_mc\"])/data_test[\"valeur_mc\"]\n",
    "\n"
   ]
  },
  {
   "cell_type": "code",
   "execution_count": 20,
   "id": "9bd4cff0",
   "metadata": {},
   "outputs": [
    {
     "data": {
      "text/plain": [
       "count    385.000000\n",
       "mean       0.326039\n",
       "std        0.530825\n",
       "min        0.001122\n",
       "25%        0.092369\n",
       "50%        0.216601\n",
       "75%        0.362957\n",
       "max        7.317608\n",
       "Name: mean_per_cp_percent_error, dtype: float64"
      ]
     },
     "execution_count": 20,
     "metadata": {},
     "output_type": "execute_result"
    }
   ],
   "source": [
    "data_test['mean_per_cp_percent_error'].describe()"
   ]
  },
  {
   "cell_type": "markdown",
   "id": "25f263f6",
   "metadata": {},
   "source": [
    "# Full random forest model"
   ]
  },
  {
   "cell_type": "code",
   "execution_count": 21,
   "id": "16ce3d06",
   "metadata": {},
   "outputs": [],
   "source": [
    "from sklearn.model_selection import GridSearchCV\n",
    "from sklearn.ensemble import RandomForestRegressor"
   ]
  },
  {
   "cell_type": "code",
   "execution_count": 22,
   "id": "d11e968c",
   "metadata": {},
   "outputs": [],
   "source": [
    "model = GridSearchCV(estimator=RandomForestRegressor(n_estimators=1000, random_state=42),\n",
    "                     scoring='neg_root_mean_squared_error',\n",
    "                     param_grid={'min_samples_leaf': [1, 2, 3, 4, 5, 6, 7, 8, 9, 10]})"
   ]
  },
  {
   "cell_type": "code",
   "execution_count": 23,
   "id": "606da445",
   "metadata": {},
   "outputs": [
    {
     "data": {
      "text/plain": [
       "GridSearchCV(estimator=RandomForestRegressor(n_estimators=1000,\n",
       "                                             random_state=42),\n",
       "             param_grid={'min_samples_leaf': [1, 2, 3, 4, 5, 6, 7, 8, 9, 10]},\n",
       "             scoring='neg_root_mean_squared_error')"
      ]
     },
     "execution_count": 23,
     "metadata": {},
     "output_type": "execute_result"
    }
   ],
   "source": [
    "model.fit(data_train[features], \n",
    "          data_train[target])"
   ]
  },
  {
   "cell_type": "code",
   "execution_count": 24,
   "id": "64b14e27",
   "metadata": {},
   "outputs": [
    {
     "data": {
      "text/plain": [
       "{'mean_fit_time': array([1.63726916, 1.35849271, 1.28344474, 1.258881  , 1.31362734,\n",
       "        1.2375886 , 1.20344601, 1.17508059, 1.1571383 , 1.1619472 ]),\n",
       " 'std_fit_time': array([0.09041655, 0.01782499, 0.02215933, 0.0483709 , 0.05934826,\n",
       "        0.02333243, 0.03856823, 0.02705797, 0.02006785, 0.02649808]),\n",
       " 'mean_score_time': array([0.07685943, 0.06364164, 0.06798291, 0.06248784, 0.07174621,\n",
       "        0.06391745, 0.06257572, 0.05998936, 0.06027861, 0.06134458]),\n",
       " 'std_score_time': array([0.01156077, 0.00152231, 0.00951384, 0.00203532, 0.01915405,\n",
       "        0.00488911, 0.00539074, 0.00231231, 0.00229039, 0.0037822 ]),\n",
       " 'param_min_samples_leaf': masked_array(data=[1, 2, 3, 4, 5, 6, 7, 8, 9, 10],\n",
       "              mask=[False, False, False, False, False, False, False, False,\n",
       "                    False, False],\n",
       "        fill_value='?',\n",
       "             dtype=object),\n",
       " 'params': [{'min_samples_leaf': 1},\n",
       "  {'min_samples_leaf': 2},\n",
       "  {'min_samples_leaf': 3},\n",
       "  {'min_samples_leaf': 4},\n",
       "  {'min_samples_leaf': 5},\n",
       "  {'min_samples_leaf': 6},\n",
       "  {'min_samples_leaf': 7},\n",
       "  {'min_samples_leaf': 8},\n",
       "  {'min_samples_leaf': 9},\n",
       "  {'min_samples_leaf': 10}],\n",
       " 'split0_test_score': array([ -983.69147548,  -992.57714227, -1004.30408033, -1012.73701521,\n",
       "        -1017.27078454, -1021.27151447, -1025.04426342, -1029.23899593,\n",
       "        -1034.42346782, -1040.11485354]),\n",
       " 'split1_test_score': array([-887.63947013, -875.41251478, -866.2215268 , -858.89003893,\n",
       "        -855.96907957, -855.10116279, -858.28742708, -863.43160346,\n",
       "        -870.76759181, -878.06317934]),\n",
       " 'split2_test_score': array([ -990.73382024,  -991.85621485,  -992.95970867,  -996.91335402,\n",
       "        -1004.87682476, -1012.87898373, -1022.23032488, -1030.53620616,\n",
       "        -1037.19487578, -1043.51358121]),\n",
       " 'split3_test_score': array([-874.17064512, -874.69388742, -878.22655009, -886.15936406,\n",
       "        -893.80044311, -900.79661266, -909.62686933, -923.69295573,\n",
       "        -936.52803059, -945.69041335]),\n",
       " 'split4_test_score': array([-1016.2465125 , -1015.99260852, -1023.51894977, -1029.43739825,\n",
       "        -1034.86079439, -1045.69582057, -1054.15881965, -1061.3856123 ,\n",
       "        -1066.9771586 , -1073.75069474]),\n",
       " 'mean_test_score': array([-950.49638469, -950.10647357, -953.04616313, -956.82743409,\n",
       "        -961.35558527, -967.14881884, -973.86954087, -981.65707472,\n",
       "        -989.17822492, -996.22654444]),\n",
       " 'std_test_score': array([58.00112897, 61.89350048, 66.81821731, 70.12942125, 72.2407591 ,\n",
       "        75.02991155, 76.01359328, 75.29535121, 73.75435695, 73.0598697 ]),\n",
       " 'rank_test_score': array([ 2,  1,  3,  4,  5,  6,  7,  8,  9, 10], dtype=int32)}"
      ]
     },
     "execution_count": 24,
     "metadata": {},
     "output_type": "execute_result"
    }
   ],
   "source": [
    "model.cv_results_"
   ]
  },
  {
   "cell_type": "code",
   "execution_count": 25,
   "id": "e9788d30",
   "metadata": {},
   "outputs": [
    {
     "data": {
      "text/plain": [
       "RandomForestRegressor(min_samples_leaf=2, n_estimators=1000, random_state=42)"
      ]
     },
     "execution_count": 25,
     "metadata": {},
     "output_type": "execute_result"
    }
   ],
   "source": [
    "model.best_estimator_"
   ]
  },
  {
   "cell_type": "code",
   "execution_count": 26,
   "id": "2a7b1d36",
   "metadata": {},
   "outputs": [
    {
     "data": {
      "text/plain": [
       "array([3661.23719969, 3631.52185918, 3631.52185918, 3207.39691679,\n",
       "       3318.77976077, 3820.5953271 , 4108.73807505, 3038.00233859,\n",
       "       3641.66548791, 2876.58445444])"
      ]
     },
     "execution_count": 26,
     "metadata": {},
     "output_type": "execute_result"
    }
   ],
   "source": [
    "model.predict(data_test[features])[:10]"
   ]
  },
  {
   "cell_type": "code",
   "execution_count": 27,
   "id": "7a35f885",
   "metadata": {},
   "outputs": [],
   "source": [
    "data_test[\"rf_prediction\"] = model.predict(data_test[features])"
   ]
  },
  {
   "cell_type": "code",
   "execution_count": 28,
   "id": "f537cc7c",
   "metadata": {},
   "outputs": [],
   "source": [
    "data_test[\"rf_precent_error\"] =  np.abs(data_test[\"rf_prediction\"] - data_test[\"valeur_mc\"])/data_test[\"valeur_mc\"]\n",
    "\n"
   ]
  },
  {
   "cell_type": "code",
   "execution_count": 29,
   "id": "375745ce",
   "metadata": {},
   "outputs": [
    {
     "data": {
      "text/plain": [
       "count    385.000000\n",
       "mean       0.290847\n",
       "std        0.461329\n",
       "min        0.002022\n",
       "25%        0.079261\n",
       "50%        0.176228\n",
       "75%        0.339197\n",
       "max        5.725239\n",
       "Name: rf_precent_error, dtype: float64"
      ]
     },
     "execution_count": 29,
     "metadata": {},
     "output_type": "execute_result"
    }
   ],
   "source": [
    "data_test[\"rf_precent_error\"].describe()"
   ]
  },
  {
   "cell_type": "code",
   "execution_count": 30,
   "id": "fb10867f",
   "metadata": {},
   "outputs": [
    {
     "data": {
      "text/html": [
       "<div>\n",
       "<style scoped>\n",
       "    .dataframe tbody tr th:only-of-type {\n",
       "        vertical-align: middle;\n",
       "    }\n",
       "\n",
       "    .dataframe tbody tr th {\n",
       "        vertical-align: top;\n",
       "    }\n",
       "\n",
       "    .dataframe thead th {\n",
       "        text-align: right;\n",
       "    }\n",
       "</style>\n",
       "<table border=\"1\" class=\"dataframe\">\n",
       "  <thead>\n",
       "    <tr style=\"text-align: right;\">\n",
       "      <th></th>\n",
       "      <th>valeur_fonciere</th>\n",
       "      <th>longitude</th>\n",
       "      <th>latitude</th>\n",
       "      <th>nombre_pieces_principales</th>\n",
       "      <th>surface_reelle_bati</th>\n",
       "      <th>code_postal</th>\n",
       "      <th>nom_commune</th>\n",
       "      <th>valeur_mc</th>\n",
       "      <th>surface_reelle_bati_qcut</th>\n",
       "      <th>cp_mean_prediction</th>\n",
       "      <th>mean_per_cp_percent_error</th>\n",
       "      <th>rf_prediction</th>\n",
       "      <th>rf_precent_error</th>\n",
       "    </tr>\n",
       "  </thead>\n",
       "  <tbody>\n",
       "    <tr>\n",
       "      <th>3</th>\n",
       "      <td>25000.0</td>\n",
       "      <td>3.860533</td>\n",
       "      <td>43.605103</td>\n",
       "      <td>1.0</td>\n",
       "      <td>27.0</td>\n",
       "      <td>34070.0</td>\n",
       "      <td>Montpellier</td>\n",
       "      <td>925.925926</td>\n",
       "      <td>2</td>\n",
       "      <td>2907.202391</td>\n",
       "      <td>2.139779</td>\n",
       "      <td>3207.396917</td>\n",
       "      <td>2.463989</td>\n",
       "    </tr>\n",
       "    <tr>\n",
       "      <th>5</th>\n",
       "      <td>30000.0</td>\n",
       "      <td>3.892202</td>\n",
       "      <td>43.592591</td>\n",
       "      <td>1.0</td>\n",
       "      <td>20.0</td>\n",
       "      <td>34070.0</td>\n",
       "      <td>Montpellier</td>\n",
       "      <td>1500.000000</td>\n",
       "      <td>1</td>\n",
       "      <td>2907.202391</td>\n",
       "      <td>0.938135</td>\n",
       "      <td>3820.595327</td>\n",
       "      <td>1.547064</td>\n",
       "    </tr>\n",
       "    <tr>\n",
       "      <th>53</th>\n",
       "      <td>70000.0</td>\n",
       "      <td>3.873238</td>\n",
       "      <td>43.609920</td>\n",
       "      <td>2.0</td>\n",
       "      <td>46.0</td>\n",
       "      <td>34000.0</td>\n",
       "      <td>Montpellier</td>\n",
       "      <td>1521.739130</td>\n",
       "      <td>6</td>\n",
       "      <td>3934.006188</td>\n",
       "      <td>1.585204</td>\n",
       "      <td>3730.917694</td>\n",
       "      <td>1.451746</td>\n",
       "    </tr>\n",
       "    <tr>\n",
       "      <th>117</th>\n",
       "      <td>97000.0</td>\n",
       "      <td>3.877658</td>\n",
       "      <td>43.614968</td>\n",
       "      <td>2.0</td>\n",
       "      <td>56.0</td>\n",
       "      <td>34000.0</td>\n",
       "      <td>Montpellier</td>\n",
       "      <td>1732.142857</td>\n",
       "      <td>7</td>\n",
       "      <td>3934.006188</td>\n",
       "      <td>1.271179</td>\n",
       "      <td>4106.168444</td>\n",
       "      <td>1.370571</td>\n",
       "    </tr>\n",
       "    <tr>\n",
       "      <th>128</th>\n",
       "      <td>145000.0</td>\n",
       "      <td>3.873948</td>\n",
       "      <td>43.621084</td>\n",
       "      <td>6.0</td>\n",
       "      <td>170.0</td>\n",
       "      <td>34090.0</td>\n",
       "      <td>Montpellier</td>\n",
       "      <td>852.941176</td>\n",
       "      <td>9</td>\n",
       "      <td>3929.171262</td>\n",
       "      <td>3.606615</td>\n",
       "      <td>2874.010072</td>\n",
       "      <td>2.369529</td>\n",
       "    </tr>\n",
       "    <tr>\n",
       "      <th>144</th>\n",
       "      <td>35000.0</td>\n",
       "      <td>4.084553</td>\n",
       "      <td>43.559678</td>\n",
       "      <td>1.0</td>\n",
       "      <td>65.0</td>\n",
       "      <td>34280.0</td>\n",
       "      <td>La Grande-Motte</td>\n",
       "      <td>538.461538</td>\n",
       "      <td>7</td>\n",
       "      <td>4478.711883</td>\n",
       "      <td>7.317608</td>\n",
       "      <td>3621.282502</td>\n",
       "      <td>5.725239</td>\n",
       "    </tr>\n",
       "    <tr>\n",
       "      <th>235</th>\n",
       "      <td>72000.0</td>\n",
       "      <td>3.694396</td>\n",
       "      <td>43.400552</td>\n",
       "      <td>3.0</td>\n",
       "      <td>61.0</td>\n",
       "      <td>34200.0</td>\n",
       "      <td>Sète</td>\n",
       "      <td>1180.327869</td>\n",
       "      <td>7</td>\n",
       "      <td>3042.888417</td>\n",
       "      <td>1.578003</td>\n",
       "      <td>2770.850062</td>\n",
       "      <td>1.347526</td>\n",
       "    </tr>\n",
       "    <tr>\n",
       "      <th>259</th>\n",
       "      <td>110000.0</td>\n",
       "      <td>3.224235</td>\n",
       "      <td>43.337360</td>\n",
       "      <td>8.0</td>\n",
       "      <td>169.0</td>\n",
       "      <td>34500.0</td>\n",
       "      <td>Béziers</td>\n",
       "      <td>650.887574</td>\n",
       "      <td>9</td>\n",
       "      <td>1552.036805</td>\n",
       "      <td>1.384493</td>\n",
       "      <td>1443.635368</td>\n",
       "      <td>1.217949</td>\n",
       "    </tr>\n",
       "    <tr>\n",
       "      <th>267</th>\n",
       "      <td>40000.0</td>\n",
       "      <td>3.220226</td>\n",
       "      <td>43.341772</td>\n",
       "      <td>3.0</td>\n",
       "      <td>60.0</td>\n",
       "      <td>34500.0</td>\n",
       "      <td>Béziers</td>\n",
       "      <td>666.666667</td>\n",
       "      <td>7</td>\n",
       "      <td>1552.036805</td>\n",
       "      <td>1.328055</td>\n",
       "      <td>1466.073891</td>\n",
       "      <td>1.199111</td>\n",
       "    </tr>\n",
       "    <tr>\n",
       "      <th>276</th>\n",
       "      <td>35822.0</td>\n",
       "      <td>3.826908</td>\n",
       "      <td>43.615558</td>\n",
       "      <td>2.0</td>\n",
       "      <td>45.0</td>\n",
       "      <td>34080.0</td>\n",
       "      <td>Montpellier</td>\n",
       "      <td>796.044444</td>\n",
       "      <td>5</td>\n",
       "      <td>2250.269619</td>\n",
       "      <td>1.826814</td>\n",
       "      <td>2422.508036</td>\n",
       "      <td>2.043182</td>\n",
       "    </tr>\n",
       "    <tr>\n",
       "      <th>280</th>\n",
       "      <td>10435.5</td>\n",
       "      <td>3.815870</td>\n",
       "      <td>43.622093</td>\n",
       "      <td>1.0</td>\n",
       "      <td>13.0</td>\n",
       "      <td>34080.0</td>\n",
       "      <td>Montpellier</td>\n",
       "      <td>802.730769</td>\n",
       "      <td>0</td>\n",
       "      <td>2250.269619</td>\n",
       "      <td>1.803268</td>\n",
       "      <td>3394.436888</td>\n",
       "      <td>3.228612</td>\n",
       "    </tr>\n",
       "    <tr>\n",
       "      <th>288</th>\n",
       "      <td>23700.0</td>\n",
       "      <td>3.837947</td>\n",
       "      <td>43.613467</td>\n",
       "      <td>1.0</td>\n",
       "      <td>17.0</td>\n",
       "      <td>34080.0</td>\n",
       "      <td>Montpellier</td>\n",
       "      <td>1394.117647</td>\n",
       "      <td>0</td>\n",
       "      <td>2250.269619</td>\n",
       "      <td>0.614117</td>\n",
       "      <td>3138.989603</td>\n",
       "      <td>1.251596</td>\n",
       "    </tr>\n",
       "    <tr>\n",
       "      <th>299</th>\n",
       "      <td>65000.0</td>\n",
       "      <td>3.278546</td>\n",
       "      <td>43.283023</td>\n",
       "      <td>3.0</td>\n",
       "      <td>53.0</td>\n",
       "      <td>34410.0</td>\n",
       "      <td>Sérignan</td>\n",
       "      <td>1226.415094</td>\n",
       "      <td>6</td>\n",
       "      <td>2303.105475</td>\n",
       "      <td>0.877917</td>\n",
       "      <td>2524.878665</td>\n",
       "      <td>1.058747</td>\n",
       "    </tr>\n",
       "    <tr>\n",
       "      <th>335</th>\n",
       "      <td>50500.0</td>\n",
       "      <td>3.458216</td>\n",
       "      <td>43.281856</td>\n",
       "      <td>2.0</td>\n",
       "      <td>30.0</td>\n",
       "      <td>34300.0</td>\n",
       "      <td>Agde</td>\n",
       "      <td>1683.333333</td>\n",
       "      <td>3</td>\n",
       "      <td>3199.063557</td>\n",
       "      <td>0.900434</td>\n",
       "      <td>3950.447057</td>\n",
       "      <td>1.346800</td>\n",
       "    </tr>\n",
       "    <tr>\n",
       "      <th>364</th>\n",
       "      <td>49400.0</td>\n",
       "      <td>3.708276</td>\n",
       "      <td>43.934259</td>\n",
       "      <td>1.0</td>\n",
       "      <td>50.0</td>\n",
       "      <td>34190.0</td>\n",
       "      <td>Ganges</td>\n",
       "      <td>988.000000</td>\n",
       "      <td>6</td>\n",
       "      <td>1680.851064</td>\n",
       "      <td>0.701266</td>\n",
       "      <td>2571.845673</td>\n",
       "      <td>1.603083</td>\n",
       "    </tr>\n",
       "    <tr>\n",
       "      <th>366</th>\n",
       "      <td>50000.0</td>\n",
       "      <td>3.424562</td>\n",
       "      <td>43.459884</td>\n",
       "      <td>3.0</td>\n",
       "      <td>79.0</td>\n",
       "      <td>34120.0</td>\n",
       "      <td>Pézenas</td>\n",
       "      <td>632.911392</td>\n",
       "      <td>8</td>\n",
       "      <td>1895.527106</td>\n",
       "      <td>1.994933</td>\n",
       "      <td>2028.377531</td>\n",
       "      <td>2.204836</td>\n",
       "    </tr>\n",
       "    <tr>\n",
       "      <th>384</th>\n",
       "      <td>68000.0</td>\n",
       "      <td>3.281196</td>\n",
       "      <td>43.314838</td>\n",
       "      <td>7.0</td>\n",
       "      <td>126.0</td>\n",
       "      <td>34420.0</td>\n",
       "      <td>Villeneuve-lès-Béziers</td>\n",
       "      <td>539.682540</td>\n",
       "      <td>9</td>\n",
       "      <td>2285.137292</td>\n",
       "      <td>3.234225</td>\n",
       "      <td>1536.855785</td>\n",
       "      <td>1.847703</td>\n",
       "    </tr>\n",
       "  </tbody>\n",
       "</table>\n",
       "</div>"
      ],
      "text/plain": [
       "     valeur_fonciere  longitude   latitude  nombre_pieces_principales  \\\n",
       "3            25000.0   3.860533  43.605103                        1.0   \n",
       "5            30000.0   3.892202  43.592591                        1.0   \n",
       "53           70000.0   3.873238  43.609920                        2.0   \n",
       "117          97000.0   3.877658  43.614968                        2.0   \n",
       "128         145000.0   3.873948  43.621084                        6.0   \n",
       "144          35000.0   4.084553  43.559678                        1.0   \n",
       "235          72000.0   3.694396  43.400552                        3.0   \n",
       "259         110000.0   3.224235  43.337360                        8.0   \n",
       "267          40000.0   3.220226  43.341772                        3.0   \n",
       "276          35822.0   3.826908  43.615558                        2.0   \n",
       "280          10435.5   3.815870  43.622093                        1.0   \n",
       "288          23700.0   3.837947  43.613467                        1.0   \n",
       "299          65000.0   3.278546  43.283023                        3.0   \n",
       "335          50500.0   3.458216  43.281856                        2.0   \n",
       "364          49400.0   3.708276  43.934259                        1.0   \n",
       "366          50000.0   3.424562  43.459884                        3.0   \n",
       "384          68000.0   3.281196  43.314838                        7.0   \n",
       "\n",
       "     surface_reelle_bati  code_postal             nom_commune    valeur_mc  \\\n",
       "3                   27.0      34070.0             Montpellier   925.925926   \n",
       "5                   20.0      34070.0             Montpellier  1500.000000   \n",
       "53                  46.0      34000.0             Montpellier  1521.739130   \n",
       "117                 56.0      34000.0             Montpellier  1732.142857   \n",
       "128                170.0      34090.0             Montpellier   852.941176   \n",
       "144                 65.0      34280.0         La Grande-Motte   538.461538   \n",
       "235                 61.0      34200.0                    Sète  1180.327869   \n",
       "259                169.0      34500.0                 Béziers   650.887574   \n",
       "267                 60.0      34500.0                 Béziers   666.666667   \n",
       "276                 45.0      34080.0             Montpellier   796.044444   \n",
       "280                 13.0      34080.0             Montpellier   802.730769   \n",
       "288                 17.0      34080.0             Montpellier  1394.117647   \n",
       "299                 53.0      34410.0                Sérignan  1226.415094   \n",
       "335                 30.0      34300.0                    Agde  1683.333333   \n",
       "364                 50.0      34190.0                  Ganges   988.000000   \n",
       "366                 79.0      34120.0                 Pézenas   632.911392   \n",
       "384                126.0      34420.0  Villeneuve-lès-Béziers   539.682540   \n",
       "\n",
       "    surface_reelle_bati_qcut  cp_mean_prediction  mean_per_cp_percent_error  \\\n",
       "3                          2         2907.202391                   2.139779   \n",
       "5                          1         2907.202391                   0.938135   \n",
       "53                         6         3934.006188                   1.585204   \n",
       "117                        7         3934.006188                   1.271179   \n",
       "128                        9         3929.171262                   3.606615   \n",
       "144                        7         4478.711883                   7.317608   \n",
       "235                        7         3042.888417                   1.578003   \n",
       "259                        9         1552.036805                   1.384493   \n",
       "267                        7         1552.036805                   1.328055   \n",
       "276                        5         2250.269619                   1.826814   \n",
       "280                        0         2250.269619                   1.803268   \n",
       "288                        0         2250.269619                   0.614117   \n",
       "299                        6         2303.105475                   0.877917   \n",
       "335                        3         3199.063557                   0.900434   \n",
       "364                        6         1680.851064                   0.701266   \n",
       "366                        8         1895.527106                   1.994933   \n",
       "384                        9         2285.137292                   3.234225   \n",
       "\n",
       "     rf_prediction  rf_precent_error  \n",
       "3      3207.396917          2.463989  \n",
       "5      3820.595327          1.547064  \n",
       "53     3730.917694          1.451746  \n",
       "117    4106.168444          1.370571  \n",
       "128    2874.010072          2.369529  \n",
       "144    3621.282502          5.725239  \n",
       "235    2770.850062          1.347526  \n",
       "259    1443.635368          1.217949  \n",
       "267    1466.073891          1.199111  \n",
       "276    2422.508036          2.043182  \n",
       "280    3394.436888          3.228612  \n",
       "288    3138.989603          1.251596  \n",
       "299    2524.878665          1.058747  \n",
       "335    3950.447057          1.346800  \n",
       "364    2571.845673          1.603083  \n",
       "366    2028.377531          2.204836  \n",
       "384    1536.855785          1.847703  "
      ]
     },
     "execution_count": 30,
     "metadata": {},
     "output_type": "execute_result"
    }
   ],
   "source": [
    "data_test[data_test[\"rf_precent_error\"] > 1]"
   ]
  },
  {
   "cell_type": "markdown",
   "id": "5c2db34d",
   "metadata": {},
   "source": [
    "# GPS (Latitude longitude) RF only"
   ]
  },
  {
   "cell_type": "code",
   "execution_count": 31,
   "id": "e5469af5",
   "metadata": {},
   "outputs": [],
   "source": [
    "model_gps = GridSearchCV(estimator=RandomForestRegressor(n_estimators=1000, random_state=42),\n",
    "                     scoring='neg_root_mean_squared_error',\n",
    "                     param_grid={'min_samples_leaf': [1, 2, 3, 4, 5, 6, 7, 8, 9, 10]})"
   ]
  },
  {
   "cell_type": "code",
   "execution_count": 32,
   "id": "e6494880",
   "metadata": {},
   "outputs": [
    {
     "data": {
      "text/plain": [
       "GridSearchCV(estimator=RandomForestRegressor(n_estimators=1000,\n",
       "                                             random_state=42),\n",
       "             param_grid={'min_samples_leaf': [1, 2, 3, 4, 5, 6, 7, 8, 9, 10]},\n",
       "             scoring='neg_root_mean_squared_error')"
      ]
     },
     "execution_count": 32,
     "metadata": {},
     "output_type": "execute_result"
    }
   ],
   "source": [
    "model_gps.fit(data_train[[\"longitude\", \"latitude\"]], \n",
    "              data_train[target])"
   ]
  },
  {
   "cell_type": "code",
   "execution_count": 33,
   "id": "2b11fb12",
   "metadata": {},
   "outputs": [
    {
     "data": {
      "text/plain": [
       "RandomForestRegressor(min_samples_leaf=4, n_estimators=1000, random_state=42)"
      ]
     },
     "execution_count": 33,
     "metadata": {},
     "output_type": "execute_result"
    }
   ],
   "source": [
    "model_gps.best_estimator_"
   ]
  },
  {
   "cell_type": "code",
   "execution_count": 34,
   "id": "ac1ee183",
   "metadata": {},
   "outputs": [
    {
     "data": {
      "text/plain": [
       "{'mean_fit_time': array([1.34581327, 1.21873245, 1.15108242, 1.14297142, 1.09943347,\n",
       "        1.08034019, 1.04755859, 1.03484426, 1.02648473, 0.99847765]),\n",
       " 'std_fit_time': array([0.01951531, 0.01663787, 0.0165898 , 0.06291324, 0.01088902,\n",
       "        0.01969119, 0.01429308, 0.01008336, 0.02463799, 0.0062    ]),\n",
       " 'mean_score_time': array([0.07742872, 0.06819496, 0.06690888, 0.07221122, 0.06187277,\n",
       "        0.06409559, 0.06123862, 0.06043177, 0.06192918, 0.0590723 ]),\n",
       " 'std_score_time': array([0.00675402, 0.00204978, 0.00342531, 0.01964372, 0.00187617,\n",
       "        0.00509725, 0.00206338, 0.00072561, 0.00456163, 0.00178684]),\n",
       " 'param_min_samples_leaf': masked_array(data=[1, 2, 3, 4, 5, 6, 7, 8, 9, 10],\n",
       "              mask=[False, False, False, False, False, False, False, False,\n",
       "                    False, False],\n",
       "        fill_value='?',\n",
       "             dtype=object),\n",
       " 'params': [{'min_samples_leaf': 1},\n",
       "  {'min_samples_leaf': 2},\n",
       "  {'min_samples_leaf': 3},\n",
       "  {'min_samples_leaf': 4},\n",
       "  {'min_samples_leaf': 5},\n",
       "  {'min_samples_leaf': 6},\n",
       "  {'min_samples_leaf': 7},\n",
       "  {'min_samples_leaf': 8},\n",
       "  {'min_samples_leaf': 9},\n",
       "  {'min_samples_leaf': 10}],\n",
       " 'split0_test_score': array([-1075.8363879 , -1087.09675344, -1095.40740141, -1103.00055606,\n",
       "        -1109.18978778, -1114.26188208, -1118.45196204, -1123.0950391 ,\n",
       "        -1130.19428776, -1141.1977581 ]),\n",
       " 'split1_test_score': array([-1009.77303972,  -992.27498823,  -983.51827589,  -971.05633433,\n",
       "         -964.3290599 ,  -960.89786207,  -960.22558292,  -965.52554189,\n",
       "         -973.03666586,  -981.53805417]),\n",
       " 'split2_test_score': array([-1047.28983174, -1005.80246624,  -989.41171193,  -983.35422168,\n",
       "         -985.58502089,  -985.70055636,  -981.96860252,  -981.37433909,\n",
       "         -986.13642342,  -993.41087186]),\n",
       " 'split3_test_score': array([-918.00509634, -884.57994963, -876.8806276 , -879.9624758 ,\n",
       "        -883.25931177, -884.48597238, -890.9440941 , -901.63619213,\n",
       "        -916.34330193, -928.80028713]),\n",
       " 'split4_test_score': array([-1091.84076338, -1073.18270589, -1052.04075428, -1040.27515691,\n",
       "        -1035.3125298 , -1033.65222954, -1036.7891038 , -1042.8216198 ,\n",
       "        -1047.11807356, -1049.65957478]),\n",
       " 'mean_test_score': array([-1028.54902382, -1008.58737269,  -999.45175422,  -995.52974895,\n",
       "         -995.53514203,  -995.79970049,  -997.67586908, -1002.8905464 ,\n",
       "        -1010.56575051, -1018.92130921]),\n",
       " 'std_test_score': array([61.91228386, 72.09434167, 73.96140671, 74.37084378, 75.0710405 ,\n",
       "        76.38976309, 76.36442065, 75.04018348, 72.84250583, 72.20312973]),\n",
       " 'rank_test_score': array([10,  7,  5,  1,  2,  3,  4,  6,  8,  9], dtype=int32)}"
      ]
     },
     "execution_count": 34,
     "metadata": {},
     "output_type": "execute_result"
    }
   ],
   "source": [
    "model_gps.cv_results_"
   ]
  },
  {
   "cell_type": "code",
   "execution_count": 35,
   "id": "93085d25",
   "metadata": {},
   "outputs": [
    {
     "data": {
      "text/plain": [
       "array([3172.38346839, 3172.38346839, 3172.38346839, 2766.53444725,\n",
       "       3605.68124668, 2769.36606135, 3103.96430443, 3409.0431841 ,\n",
       "       2698.16729443, 2782.35641623])"
      ]
     },
     "execution_count": 35,
     "metadata": {},
     "output_type": "execute_result"
    }
   ],
   "source": [
    "model_gps.predict(data_test[[\"longitude\", \"latitude\"]])[:10]"
   ]
  },
  {
   "cell_type": "code",
   "execution_count": 36,
   "id": "9c54ef5b",
   "metadata": {},
   "outputs": [],
   "source": [
    "data_test['rf_gps_predictions'] = model_gps.predict(data_test[[\"longitude\", \"latitude\"]])"
   ]
  },
  {
   "cell_type": "code",
   "execution_count": 37,
   "id": "63757750",
   "metadata": {},
   "outputs": [],
   "source": [
    "data_test[\"rf_gps_precent_error\"] =  np.abs(data_test[\"rf_gps_predictions\"] - data_test[\"valeur_mc\"])/data_test[\"valeur_mc\"]\n"
   ]
  },
  {
   "cell_type": "code",
   "execution_count": 38,
   "id": "112cb2aa",
   "metadata": {},
   "outputs": [
    {
     "data": {
      "text/plain": [
       "count    385.000000\n",
       "mean       0.308263\n",
       "std        0.531250\n",
       "min        0.001019\n",
       "25%        0.093232\n",
       "50%        0.187553\n",
       "75%        0.333684\n",
       "max        7.316733\n",
       "Name: rf_gps_precent_error, dtype: float64"
      ]
     },
     "execution_count": 38,
     "metadata": {},
     "output_type": "execute_result"
    }
   ],
   "source": [
    "data_test['rf_gps_precent_error'].describe()"
   ]
  },
  {
   "cell_type": "markdown",
   "id": "cab7f939",
   "metadata": {},
   "source": [
    "# Business simulation "
   ]
  },
  {
   "cell_type": "markdown",
   "id": "66b8d7ed",
   "metadata": {},
   "source": [
    "## Assumptions"
   ]
  },
  {
   "cell_type": "code",
   "execution_count": 39,
   "id": "3c56b89e",
   "metadata": {},
   "outputs": [],
   "source": [
    "user_predictions_per_month = 1000"
   ]
  },
  {
   "cell_type": "code",
   "execution_count": 40,
   "id": "00356701",
   "metadata": {},
   "outputs": [],
   "source": [
    "accuracy_thereshold = 0.05 #  an accurate prediction is 5%"
   ]
  },
  {
   "cell_type": "code",
   "execution_count": 41,
   "id": "865e9f89",
   "metadata": {},
   "outputs": [],
   "source": [
    "accurate_prediction_conversion_rate = 0.01  # 1% conversion rate for accurate predictions"
   ]
  },
  {
   "cell_type": "code",
   "execution_count": 42,
   "id": "33cdb6d9",
   "metadata": {},
   "outputs": [],
   "source": [
    "client_fees_on_value = 0.03"
   ]
  },
  {
   "cell_type": "code",
   "execution_count": 43,
   "id": "9c59ed27",
   "metadata": {},
   "outputs": [],
   "source": [
    "average_house_price = 150000 # Could be different for each since model"
   ]
  },
  {
   "cell_type": "markdown",
   "id": "9539ba05",
   "metadata": {},
   "source": [
    "## Computations"
   ]
  },
  {
   "cell_type": "code",
   "execution_count": 44,
   "id": "796c1f27",
   "metadata": {},
   "outputs": [],
   "source": [
    "average_cp_accuracy = (data_test[\"mean_per_cp_percent_error\"] < accuracy_thereshold).mean()\n"
   ]
  },
  {
   "cell_type": "code",
   "execution_count": 45,
   "id": "789e9a08",
   "metadata": {},
   "outputs": [
    {
     "data": {
      "text/plain": [
       "0.12207792207792208"
      ]
     },
     "execution_count": 45,
     "metadata": {},
     "output_type": "execute_result"
    }
   ],
   "source": [
    "average_cp_accuracy"
   ]
  },
  {
   "cell_type": "code",
   "execution_count": 46,
   "id": "3774b45d",
   "metadata": {},
   "outputs": [],
   "source": [
    "average_rf_accuracy = (data_test[\"rf_precent_error\"] < accuracy_thereshold).mean()\n"
   ]
  },
  {
   "cell_type": "code",
   "execution_count": 47,
   "id": "df4362c1",
   "metadata": {},
   "outputs": [
    {
     "data": {
      "text/plain": [
       "0.15064935064935064"
      ]
     },
     "execution_count": 47,
     "metadata": {},
     "output_type": "execute_result"
    }
   ],
   "source": [
    "average_rf_accuracy"
   ]
  },
  {
   "cell_type": "code",
   "execution_count": 48,
   "id": "8bfd3f9d",
   "metadata": {},
   "outputs": [],
   "source": [
    "average_gps_rf_accuracy = (data_test[\"rf_gps_precent_error\"] < accuracy_thereshold).mean()\n"
   ]
  },
  {
   "cell_type": "code",
   "execution_count": 49,
   "id": "748c10ca",
   "metadata": {},
   "outputs": [
    {
     "data": {
      "text/plain": [
       "0.14545454545454545"
      ]
     },
     "execution_count": 49,
     "metadata": {},
     "output_type": "execute_result"
    }
   ],
   "source": [
    "average_gps_rf_accuracy"
   ]
  },
  {
   "cell_type": "markdown",
   "id": "1cdee07b",
   "metadata": {},
   "source": [
    "# Results"
   ]
  },
  {
   "cell_type": "code",
   "execution_count": 50,
   "id": "8dc65215",
   "metadata": {},
   "outputs": [
    {
     "data": {
      "text/plain": [
       "5493.506493506493"
      ]
     },
     "execution_count": 50,
     "metadata": {},
     "output_type": "execute_result"
    }
   ],
   "source": [
    "user_predictions_per_month*average_cp_accuracy*accurate_prediction_conversion_rate*average_house_price*client_fees_on_value\n",
    "\n"
   ]
  },
  {
   "cell_type": "code",
   "execution_count": 51,
   "id": "72a6bc6f",
   "metadata": {},
   "outputs": [
    {
     "data": {
      "text/plain": [
       "6779.220779220779"
      ]
     },
     "execution_count": 51,
     "metadata": {},
     "output_type": "execute_result"
    }
   ],
   "source": [
    "user_predictions_per_month*average_rf_accuracy*accurate_prediction_conversion_rate*average_house_price*client_fees_on_value\n"
   ]
  },
  {
   "cell_type": "code",
   "execution_count": 52,
   "id": "0b538381",
   "metadata": {},
   "outputs": [
    {
     "data": {
      "text/plain": [
       "6545.454545454544"
      ]
     },
     "execution_count": 52,
     "metadata": {},
     "output_type": "execute_result"
    }
   ],
   "source": [
    "user_predictions_per_month*average_gps_rf_accuracy*accurate_prediction_conversion_rate*average_house_price*client_fees_on_value\n"
   ]
  },
  {
   "cell_type": "code",
   "execution_count": null,
   "id": "47942258",
   "metadata": {},
   "outputs": [],
   "source": []
  },
  {
   "cell_type": "code",
   "execution_count": null,
   "id": "b12aa52f",
   "metadata": {},
   "outputs": [],
   "source": []
  },
  {
   "cell_type": "code",
   "execution_count": null,
   "id": "85b1b952",
   "metadata": {},
   "outputs": [],
   "source": []
  },
  {
   "cell_type": "code",
   "execution_count": null,
   "id": "f1aced7e",
   "metadata": {},
   "outputs": [],
   "source": []
  }
 ],
 "metadata": {
  "kernelspec": {
   "display_name": "Python 3",
   "language": "python",
   "name": "python3"
  },
  "language_info": {
   "codemirror_mode": {
    "name": "ipython",
    "version": 3
   },
   "file_extension": ".py",
   "mimetype": "text/x-python",
   "name": "python",
   "nbconvert_exporter": "python",
   "pygments_lexer": "ipython3",
   "version": "3.8.8"
  }
 },
 "nbformat": 4,
 "nbformat_minor": 5
}
